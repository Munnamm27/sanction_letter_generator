{
 "cells": [
  {
   "cell_type": "code",
   "execution_count": 68,
   "metadata": {},
   "outputs": [],
   "source": [
    "import pandas as pd\n",
    "from connector import *\n",
    "import warnings\n",
    "warnings.filterwarnings(\"ignore\")"
   ]
  },
  {
   "cell_type": "code",
   "execution_count": 69,
   "metadata": {},
   "outputs": [],
   "source": [
    "conn = create_mysql_engine(\"creds.json\")"
   ]
  },
  {
   "cell_type": "code",
   "execution_count": 70,
   "metadata": {},
   "outputs": [],
   "source": [
    "q_agg = '''SELECT ffa.name \"Name\",  fa.fid 'FID', fa.farmer_nid 'NID', ffa.phone \"Phone Number\",ffbr.fathers_name \"Father/Husband\",\n",
    "fbi.bank_name \"Bank Name\" ,fbi.branch_name \"Branch\" ,fbi.routing_number \"Rounting No.\" ,fbi.account_number \"Account No.\",\n",
    "fa.guarantor_name \"Guarantors' Name\", fa.guarantor_nid \"Guarantors' NID\", fa.guarantor_phone \"Guarantors' Phone\",\n",
    "fa.project_name \"Project Name\", ffa.project_duration \"Project Duration\",fa.loan_amt \"Fund Requirement\", fa.wegro_service \"Wegro ROI (%%)\", fa.bank_service \"Bank ROI (%%)\",fa.input_amt \"Input Amount\",\n",
    "fhd.district \"Area\", fhd.name_en \"FO Name\" from f_aggrement fa \n",
    "left join f_bank_info fbi on fbi.nid = fa.farmer_nid \n",
    "left join f_farmers_assesment ffa on ffa.fid = fa.fid \n",
    "left join fo_hiararchy_details fhd on fhd.id = ffa.fo_id \n",
    "left join f_farmers_bank_requirement ffbr on ffbr.id = ffa.id  '''"
   ]
  },
  {
   "cell_type": "code",
   "execution_count": null,
   "metadata": {},
   "outputs": [],
   "source": [
    "project = 'Maize Harvest -  ভুট্টা'\n",
    "fo_name = 'Abdul Karim'\n",
    "area = 'Ullapara'\n",
    "\n",
    "df = pd.read_sql(q_agg, conn)\n",
    "df = df[(df['Project Name']==project) & (df['Area']==area) & (df['FO Name']==fo_name)]\n",
    "df['SL'] = range(1, 1+len(df))\n",
    "\n",
    "## Summary Table\n",
    "summary_table = pd.DataFrame(\n",
    "    {   \n",
    "        \n",
    "        'Project': [project.split('-')[0]],\n",
    "        'Wegro Center Name': [area],\n",
    "        'FO Name': [fo_name],\n",
    "        'Total Farmers': [len(df)],\n",
    "        'Total Fund Requirement': [format(df['Fund Requirement'].sum(),',')],\n",
    "    }\n",
    ")\n",
    "\n",
    "\n",
    "#### Farmer Details\n",
    "\n",
    "df_farmer = df[['SL',\"Name\",'FID','NID','Phone Number',\"Father/Husband\",]]\n",
    "df_farmer['Name'] = df_farmer['Name'].str.title()\n",
    "df_farmer['Father/Husband'] = df_farmer['Father/Husband'].str.title()\n",
    "\n",
    "df_bank = df[['SL','Bank Name','Branch','Rounting No.','Account No.']]\n",
    "\n",
    "\n",
    "df_guarantor = df[['SL',\"Guarantors' Name\",\"Guarantors' NID\",\"Guarantors' Phone\"]]\n",
    "df_guarantor['Guarantors\\' Name'] = df_guarantor[\"Guarantors' Name\"].str.title()\n",
    "\n",
    "\n",
    "df_project = df[['SL','Project Name','Project Duration',\"Fund Requirement\", 'Input Amount','Wegro ROI (%)','Bank ROI (%)']]\n",
    "df_project['Project Name'] = df_project['Project Name'].apply(lambda x: x.split(' - ')[0])"
   ]
  },
  {
   "cell_type": "code",
   "execution_count": 87,
   "metadata": {},
   "outputs": [
    {
     "data": {
      "text/html": [
       "<div>\n",
       "<style scoped>\n",
       "    .dataframe tbody tr th:only-of-type {\n",
       "        vertical-align: middle;\n",
       "    }\n",
       "\n",
       "    .dataframe tbody tr th {\n",
       "        vertical-align: top;\n",
       "    }\n",
       "\n",
       "    .dataframe thead th {\n",
       "        text-align: right;\n",
       "    }\n",
       "</style>\n",
       "<table border=\"1\" class=\"dataframe\">\n",
       "  <thead>\n",
       "    <tr style=\"text-align: right;\">\n",
       "      <th></th>\n",
       "      <th>Project</th>\n",
       "      <th>Wegro Center Name</th>\n",
       "      <th>FO Name</th>\n",
       "      <th>Total Farmers</th>\n",
       "      <th>Total Fund Requirement</th>\n",
       "    </tr>\n",
       "  </thead>\n",
       "  <tbody>\n",
       "    <tr>\n",
       "      <th>0</th>\n",
       "      <td>Maize Harvest</td>\n",
       "      <td>Ullapara</td>\n",
       "      <td>Abdul Karim</td>\n",
       "      <td>2</td>\n",
       "      <td>55,435.0</td>\n",
       "    </tr>\n",
       "  </tbody>\n",
       "</table>\n",
       "</div>"
      ],
      "text/plain": [
       "          Project Wegro Center Name      FO Name  Total Farmers  \\\n",
       "0  Maize Harvest           Ullapara  Abdul Karim              2   \n",
       "\n",
       "  Total Fund Requirement  \n",
       "0               55,435.0  "
      ]
     },
     "execution_count": 87,
     "metadata": {},
     "output_type": "execute_result"
    }
   ],
   "source": [
    "summary_table"
   ]
  },
  {
   "cell_type": "code",
   "execution_count": 88,
   "metadata": {},
   "outputs": [
    {
     "data": {
      "text/html": [
       "<div>\n",
       "<style scoped>\n",
       "    .dataframe tbody tr th:only-of-type {\n",
       "        vertical-align: middle;\n",
       "    }\n",
       "\n",
       "    .dataframe tbody tr th {\n",
       "        vertical-align: top;\n",
       "    }\n",
       "\n",
       "    .dataframe thead th {\n",
       "        text-align: right;\n",
       "    }\n",
       "</style>\n",
       "<table border=\"1\" class=\"dataframe\">\n",
       "  <thead>\n",
       "    <tr style=\"text-align: right;\">\n",
       "      <th></th>\n",
       "      <th>SL</th>\n",
       "      <th>Name</th>\n",
       "      <th>FID</th>\n",
       "      <th>NID</th>\n",
       "      <th>Phone Number</th>\n",
       "      <th>Father/Husband</th>\n",
       "    </tr>\n",
       "  </thead>\n",
       "  <tbody>\n",
       "    <tr>\n",
       "      <th>2</th>\n",
       "      <td>1</td>\n",
       "      <td>Md Helel Uddin</td>\n",
       "      <td>F010106783</td>\n",
       "      <td>1453614206</td>\n",
       "      <td>1783413783</td>\n",
       "      <td>Md Usof Ali</td>\n",
       "    </tr>\n",
       "    <tr>\n",
       "      <th>4</th>\n",
       "      <td>2</td>\n",
       "      <td>Md Fojlul Haque Mondol</td>\n",
       "      <td>F010103244</td>\n",
       "      <td>2352789503</td>\n",
       "      <td>1723255244</td>\n",
       "      <td>Md Hobibor Rohoman Mondol</td>\n",
       "    </tr>\n",
       "  </tbody>\n",
       "</table>\n",
       "</div>"
      ],
      "text/plain": [
       "   SL                    Name         FID         NID Phone Number  \\\n",
       "2   1          Md Helel Uddin  F010106783  1453614206   1783413783   \n",
       "4   2  Md Fojlul Haque Mondol  F010103244  2352789503   1723255244   \n",
       "\n",
       "              Father/Husband  \n",
       "2                Md Usof Ali  \n",
       "4  Md Hobibor Rohoman Mondol  "
      ]
     },
     "execution_count": 88,
     "metadata": {},
     "output_type": "execute_result"
    }
   ],
   "source": [
    "df_farmer"
   ]
  },
  {
   "cell_type": "code",
   "execution_count": 89,
   "metadata": {},
   "outputs": [
    {
     "data": {
      "text/html": [
       "<div>\n",
       "<style scoped>\n",
       "    .dataframe tbody tr th:only-of-type {\n",
       "        vertical-align: middle;\n",
       "    }\n",
       "\n",
       "    .dataframe tbody tr th {\n",
       "        vertical-align: top;\n",
       "    }\n",
       "\n",
       "    .dataframe thead th {\n",
       "        text-align: right;\n",
       "    }\n",
       "</style>\n",
       "<table border=\"1\" class=\"dataframe\">\n",
       "  <thead>\n",
       "    <tr style=\"text-align: right;\">\n",
       "      <th></th>\n",
       "      <th>SL</th>\n",
       "      <th>Bank Name</th>\n",
       "      <th>Branch</th>\n",
       "      <th>Rounting No.</th>\n",
       "      <th>Account No.</th>\n",
       "    </tr>\n",
       "  </thead>\n",
       "  <tbody>\n",
       "    <tr>\n",
       "      <th>2</th>\n",
       "      <td>1</td>\n",
       "      <td>None</td>\n",
       "      <td>None</td>\n",
       "      <td>None</td>\n",
       "      <td>None</td>\n",
       "    </tr>\n",
       "    <tr>\n",
       "      <th>4</th>\n",
       "      <td>2</td>\n",
       "      <td>None</td>\n",
       "      <td>None</td>\n",
       "      <td>None</td>\n",
       "      <td>None</td>\n",
       "    </tr>\n",
       "  </tbody>\n",
       "</table>\n",
       "</div>"
      ],
      "text/plain": [
       "   SL Bank Name Branch Rounting No. Account No.\n",
       "2   1      None   None         None        None\n",
       "4   2      None   None         None        None"
      ]
     },
     "execution_count": 89,
     "metadata": {},
     "output_type": "execute_result"
    }
   ],
   "source": [
    "df_bank"
   ]
  },
  {
   "cell_type": "code",
   "execution_count": 90,
   "metadata": {},
   "outputs": [
    {
     "data": {
      "text/html": [
       "<div>\n",
       "<style scoped>\n",
       "    .dataframe tbody tr th:only-of-type {\n",
       "        vertical-align: middle;\n",
       "    }\n",
       "\n",
       "    .dataframe tbody tr th {\n",
       "        vertical-align: top;\n",
       "    }\n",
       "\n",
       "    .dataframe thead th {\n",
       "        text-align: right;\n",
       "    }\n",
       "</style>\n",
       "<table border=\"1\" class=\"dataframe\">\n",
       "  <thead>\n",
       "    <tr style=\"text-align: right;\">\n",
       "      <th></th>\n",
       "      <th>SL</th>\n",
       "      <th>Guarantors' Name</th>\n",
       "      <th>Guarantors' NID</th>\n",
       "      <th>Guarantors' Phone</th>\n",
       "    </tr>\n",
       "  </thead>\n",
       "  <tbody>\n",
       "    <tr>\n",
       "      <th>2</th>\n",
       "      <td>1</td>\n",
       "      <td>Erregf</td>\n",
       "      <td>54345</td>\n",
       "      <td>5343534</td>\n",
       "    </tr>\n",
       "    <tr>\n",
       "      <th>4</th>\n",
       "      <td>2</td>\n",
       "      <td>Munna Aa</td>\n",
       "      <td>4324352345234</td>\n",
       "      <td>42342345234</td>\n",
       "    </tr>\n",
       "  </tbody>\n",
       "</table>\n",
       "</div>"
      ],
      "text/plain": [
       "   SL Guarantors' Name Guarantors' NID Guarantors' Phone\n",
       "2   1           Erregf           54345           5343534\n",
       "4   2         Munna Aa   4324352345234       42342345234"
      ]
     },
     "execution_count": 90,
     "metadata": {},
     "output_type": "execute_result"
    }
   ],
   "source": [
    "df_guarantor"
   ]
  },
  {
   "cell_type": "code",
   "execution_count": 91,
   "metadata": {},
   "outputs": [
    {
     "data": {
      "text/html": [
       "<div>\n",
       "<style scoped>\n",
       "    .dataframe tbody tr th:only-of-type {\n",
       "        vertical-align: middle;\n",
       "    }\n",
       "\n",
       "    .dataframe tbody tr th {\n",
       "        vertical-align: top;\n",
       "    }\n",
       "\n",
       "    .dataframe thead th {\n",
       "        text-align: right;\n",
       "    }\n",
       "</style>\n",
       "<table border=\"1\" class=\"dataframe\">\n",
       "  <thead>\n",
       "    <tr style=\"text-align: right;\">\n",
       "      <th></th>\n",
       "      <th>SL</th>\n",
       "      <th>Project Name</th>\n",
       "      <th>Project Duration</th>\n",
       "      <th>Fund Requirement</th>\n",
       "      <th>Input Amount</th>\n",
       "      <th>Wegro ROI (%)</th>\n",
       "      <th>Bank ROI (%)</th>\n",
       "    </tr>\n",
       "  </thead>\n",
       "  <tbody>\n",
       "    <tr>\n",
       "      <th>2</th>\n",
       "      <td>1</td>\n",
       "      <td>Maize Harvest</td>\n",
       "      <td>5</td>\n",
       "      <td>5435.0</td>\n",
       "      <td>4.0</td>\n",
       "      <td>4.0</td>\n",
       "      <td>4.0</td>\n",
       "    </tr>\n",
       "    <tr>\n",
       "      <th>4</th>\n",
       "      <td>2</td>\n",
       "      <td>Maize Harvest</td>\n",
       "      <td>5</td>\n",
       "      <td>50000.0</td>\n",
       "      <td>56700.0</td>\n",
       "      <td>4.0</td>\n",
       "      <td>7.0</td>\n",
       "    </tr>\n",
       "  </tbody>\n",
       "</table>\n",
       "</div>"
      ],
      "text/plain": [
       "   SL   Project Name  Project Duration  Fund Requirement  Input Amount  \\\n",
       "2   1  Maize Harvest                 5            5435.0           4.0   \n",
       "4   2  Maize Harvest                 5           50000.0       56700.0   \n",
       "\n",
       "   Wegro ROI (%)  Bank ROI (%)  \n",
       "2            4.0           4.0  \n",
       "4            4.0           7.0  "
      ]
     },
     "execution_count": 91,
     "metadata": {},
     "output_type": "execute_result"
    }
   ],
   "source": [
    "df_project"
   ]
  },
  {
   "cell_type": "code",
   "execution_count": 95,
   "metadata": {},
   "outputs": [],
   "source": [
    "def df_to_list_of_lists(df):\n",
    "    return [df.columns.tolist()] + df.values.tolist()"
   ]
  },
  {
   "cell_type": "code",
   "execution_count": null,
   "metadata": {},
   "outputs": [],
   "source": []
  },
  {
   "cell_type": "code",
   "execution_count": null,
   "metadata": {},
   "outputs": [],
   "source": []
  }
 ],
 "metadata": {
  "kernelspec": {
   "display_name": "dashmaker",
   "language": "python",
   "name": "python3"
  },
  "language_info": {
   "codemirror_mode": {
    "name": "ipython",
    "version": 3
   },
   "file_extension": ".py",
   "mimetype": "text/x-python",
   "name": "python",
   "nbconvert_exporter": "python",
   "pygments_lexer": "ipython3",
   "version": "3.8.20"
  }
 },
 "nbformat": 4,
 "nbformat_minor": 2
}
